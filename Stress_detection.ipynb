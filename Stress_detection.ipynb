{
  "nbformat": 4,
  "nbformat_minor": 0,
  "metadata": {
    "colab": {
      "provenance": [],
      "authorship_tag": "ABX9TyOF9DMHBAvSt74pVfHQw4BY",
      "include_colab_link": true
    },
    "kernelspec": {
      "name": "python3",
      "display_name": "Python 3"
    },
    "language_info": {
      "name": "python"
    }
  },
  "cells": [
    {
      "cell_type": "markdown",
      "metadata": {
        "id": "view-in-github",
        "colab_type": "text"
      },
      "source": [
        "<a href=\"https://colab.research.google.com/github/JubithaCM/Student-Stress-prediction/blob/main/Stress_detection.ipynb\" target=\"_parent\"><img src=\"https://colab.research.google.com/assets/colab-badge.svg\" alt=\"Open In Colab\"/></a>"
      ]
    },
    {
      "cell_type": "code",
      "execution_count": null,
      "metadata": {
        "id": "fAXHYivpNdUf"
      },
      "outputs": [],
      "source": [
        "import pandas as pd\n",
        "import numpy as np\n",
        "import matplotlib.pyplot as plt\n",
        "from sklearn import svm\n",
        "from sklearn.model_selection import train_test_split\n",
        "from sklearn import metrics\n",
        "from sklearn.metrics import confusion_matrix\n",
        "from mlxtend.plotting import plot_confusion_matrix\n",
        "import pickle\n"
      ]
    },
    {
      "cell_type": "code",
      "source": [
        "data_path = \"stressdata.csv\"\n",
        "df = pd.read_csv(data_path, encoding='cp1252')\n",
        "print(df.info())"
      ],
      "metadata": {
        "colab": {
          "base_uri": "https://localhost:8080/"
        },
        "id": "rJhcS-1FOadx",
        "outputId": "3333733e-3d48-4f11-ad19-a3e1fbd851b2"
      },
      "execution_count": null,
      "outputs": [
        {
          "output_type": "stream",
          "name": "stdout",
          "text": [
            "<class 'pandas.core.frame.DataFrame'>\n",
            "RangeIndex: 102 entries, 0 to 101\n",
            "Data columns (total 11 columns):\n",
            " #   Column                                                                             Non-Null Count  Dtype \n",
            "---  ------                                                                             --------------  ----- \n",
            " 0   How often do you feel overwhelmed with your life?                                  102 non-null    object\n",
            " 1    Do you have trouble staying focused on the present moment                         102 non-null    object\n",
            " 2   Do you struggle to fall asleep at night?                                           102 non-null    object\n",
            " 3   I find it difficult to pay attention in class                                      102 non-null    object\n",
            " 4   I don’t fully understand what my teacher teaches                                   102 non-null    object\n",
            " 5   I feel lonely/isolated                                                             102 non-null    object\n",
            " 6   I get enough support from my family for both academics and non - academic  things  102 non-null    object\n",
            " 7   You feel  frustrated                                                               102 non-null    object\n",
            " 8   I have never been a victim of domestic violence or social harassment               102 non-null    object\n",
            " 9   You feel  criticized/judged                                                        102 non-null    object\n",
            " 10  Stress Level                                                                       102 non-null    object\n",
            "dtypes: object(11)\n",
            "memory usage: 8.9+ KB\n",
            "None\n"
          ]
        }
      ]
    },
    {
      "cell_type": "code",
      "source": [
        "print(df.head())"
      ],
      "metadata": {
        "colab": {
          "base_uri": "https://localhost:8080/"
        },
        "id": "g6BFiekkO0A6",
        "outputId": "05bd1f9c-3ec2-41a8-ef08-67581b2bad1d"
      },
      "execution_count": null,
      "outputs": [
        {
          "output_type": "stream",
          "name": "stdout",
          "text": [
            "  How often do you feel overwhelmed with your life?   \\\n",
            "0                                          Sometimes   \n",
            "1                                              Never   \n",
            "2                                          Sometimes   \n",
            "3                                              Never   \n",
            "4                                             Always   \n",
            "\n",
            "   Do you have trouble staying focused on the present moment  \\\n",
            "0                                          Sometimes           \n",
            "1                                          Sometimes           \n",
            "2                                          Sometimes           \n",
            "3                                          Sometimes           \n",
            "4                                             Always           \n",
            "\n",
            "  Do you struggle to fall asleep at night?   \\\n",
            "0                                    Always   \n",
            "1                                 Sometimes   \n",
            "2                                     Never   \n",
            "3                                     Never   \n",
            "4                                 Sometimes   \n",
            "\n",
            "  I find it difficult to pay attention in class  \\\n",
            "0                                     Sometimes   \n",
            "1                                     Sometimes   \n",
            "2                                     Sometimes   \n",
            "3                                         Never   \n",
            "4                                        Always   \n",
            "\n",
            "  I don’t fully understand what my teacher teaches I feel lonely/isolated  \\\n",
            "0                                        Sometimes              Sometimes   \n",
            "1                                        Sometimes                  Never   \n",
            "2                                        Sometimes                 Always   \n",
            "3                                            Never                  Never   \n",
            "4                                           Always              Sometimes   \n",
            "\n",
            "  I get enough support from my family for both academics and non - academic  things  \\\n",
            "0                                             Always                                  \n",
            "1                                             Always                                  \n",
            "2                                             Always                                  \n",
            "3                                             Always                                  \n",
            "4                                              Never                                  \n",
            "\n",
            "  You feel  frustrated  \\\n",
            "0            Sometimes   \n",
            "1                Never   \n",
            "2                Never   \n",
            "3                Never   \n",
            "4               Always   \n",
            "\n",
            "  I have never been a victim of domestic violence or social harassment  \\\n",
            "0                                              Never                     \n",
            "1                                              Never                     \n",
            "2                                              Never                     \n",
            "3                                              Never                     \n",
            "4                                              Never                     \n",
            "\n",
            "  You feel  criticized/judged Stress Level  \n",
            "0                       Never       Medium  \n",
            "1                       Never          Low  \n",
            "2                   Sometimes       Medium  \n",
            "3                       Never          Low  \n",
            "4                      Always         High  \n"
          ]
        }
      ]
    },
    {
      "cell_type": "code",
      "source": [
        "print(df.describe())"
      ],
      "metadata": {
        "colab": {
          "base_uri": "https://localhost:8080/"
        },
        "id": "hbTwbVPVO6s_",
        "outputId": "9d7cecf4-ce82-4dc8-b5e4-fd936b8a95ca"
      },
      "execution_count": null,
      "outputs": [
        {
          "output_type": "stream",
          "name": "stdout",
          "text": [
            "       How often do you feel overwhelmed with your life?   \\\n",
            "count                                                 102   \n",
            "unique                                                  3   \n",
            "top                                             Sometimes   \n",
            "freq                                                   58   \n",
            "\n",
            "        Do you have trouble staying focused on the present moment  \\\n",
            "count                                                 102           \n",
            "unique                                                  3           \n",
            "top                                             Sometimes           \n",
            "freq                                                   60           \n",
            "\n",
            "       Do you struggle to fall asleep at night?   \\\n",
            "count                                        102   \n",
            "unique                                         3   \n",
            "top                                    Sometimes   \n",
            "freq                                          50   \n",
            "\n",
            "       I find it difficult to pay attention in class  \\\n",
            "count                                            102   \n",
            "unique                                             3   \n",
            "top                                        Sometimes   \n",
            "freq                                              60   \n",
            "\n",
            "       I don’t fully understand what my teacher teaches  \\\n",
            "count                                               102   \n",
            "unique                                                3   \n",
            "top                                           Sometimes   \n",
            "freq                                                 57   \n",
            "\n",
            "       I feel lonely/isolated  \\\n",
            "count                     102   \n",
            "unique                      3   \n",
            "top                     Never   \n",
            "freq                       47   \n",
            "\n",
            "       I get enough support from my family for both academics and non - academic  things  \\\n",
            "count                                                 102                                  \n",
            "unique                                                  3                                  \n",
            "top                                                Always                                  \n",
            "freq                                                   67                                  \n",
            "\n",
            "       You feel  frustrated  \\\n",
            "count                   102   \n",
            "unique                    3   \n",
            "top               Sometimes   \n",
            "freq                     42   \n",
            "\n",
            "       I have never been a victim of domestic violence or social harassment  \\\n",
            "count                                                 102                     \n",
            "unique                                                  3                     \n",
            "top                                                 Never                     \n",
            "freq                                                   78                     \n",
            "\n",
            "       You feel  criticized/judged Stress Level  \n",
            "count                          102          102  \n",
            "unique                           3            3  \n",
            "top                          Never          Low  \n",
            "freq                            49           45  \n"
          ]
        }
      ]
    },
    {
      "cell_type": "code",
      "source": [
        "col = []\n",
        "for i in range(1,len(df.columns)+1):\n",
        "  col.append(\"para\"+str(i))\n",
        "df.columns = col\n",
        "print(df)"
      ],
      "metadata": {
        "colab": {
          "base_uri": "https://localhost:8080/"
        },
        "id": "Qf8ax_UnQx_0",
        "outputId": "56b7708f-5aef-48b4-b9a0-1646de84cf1f"
      },
      "execution_count": null,
      "outputs": [
        {
          "output_type": "stream",
          "name": "stdout",
          "text": [
            "         para1      para2      para3      para4      para5      para6   para7  \\\n",
            "0    Sometimes  Sometimes     Always  Sometimes  Sometimes  Sometimes  Always   \n",
            "1        Never  Sometimes  Sometimes  Sometimes  Sometimes      Never  Always   \n",
            "2    Sometimes  Sometimes      Never  Sometimes  Sometimes     Always  Always   \n",
            "3        Never  Sometimes      Never      Never      Never      Never  Always   \n",
            "4       Always     Always  Sometimes     Always     Always  Sometimes   Never   \n",
            "..         ...        ...        ...        ...        ...        ...     ...   \n",
            "97   Sometimes  Sometimes  Sometimes      Never      Never      Never  Always   \n",
            "98   Sometimes  Sometimes  Sometimes  Sometimes     Always  Sometimes  Always   \n",
            "99      Always     Always     Always     Always     Always     Always  Always   \n",
            "100     Always  Sometimes     Always     Always     Always     Always   Never   \n",
            "101  Sometimes  Sometimes  Sometimes  Sometimes  Sometimes      Never  Always   \n",
            "\n",
            "         para8   para9     para10  para11  \n",
            "0    Sometimes   Never      Never  Medium  \n",
            "1        Never   Never      Never     Low  \n",
            "2        Never   Never  Sometimes  Medium  \n",
            "3        Never   Never      Never     Low  \n",
            "4       Always   Never     Always    High  \n",
            "..         ...     ...        ...     ...  \n",
            "97   Sometimes  Always      Never     Low  \n",
            "98   Sometimes   Never  Sometimes  Medium  \n",
            "99      Always  Always      Never    High  \n",
            "100     Always   Never      Never    High  \n",
            "101      Never   Never      Never     Low  \n",
            "\n",
            "[102 rows x 11 columns]\n"
          ]
        }
      ]
    },
    {
      "cell_type": "code",
      "source": [
        "for i in range(1,len(df.columns)):\n",
        "  df[\"para\"+str(i)].replace([\"Never\",\"Sometimes\",\"Always\"],[1,2,3],inplace=True)\n",
        "print(df)"
      ],
      "metadata": {
        "colab": {
          "base_uri": "https://localhost:8080/"
        },
        "id": "MIQPsnCQRUzX",
        "outputId": "e1619b66-d7c3-4227-cd91-895a528b1c09"
      },
      "execution_count": null,
      "outputs": [
        {
          "output_type": "stream",
          "name": "stdout",
          "text": [
            "     para1  para2  para3  para4  para5  para6  para7  para8  para9  para10  \\\n",
            "0        2      2      3      2      2      2      3      2      1       1   \n",
            "1        1      2      2      2      2      1      3      1      1       1   \n",
            "2        2      2      1      2      2      3      3      1      1       2   \n",
            "3        1      2      1      1      1      1      3      1      1       1   \n",
            "4        3      3      2      3      3      2      1      3      1       3   \n",
            "..     ...    ...    ...    ...    ...    ...    ...    ...    ...     ...   \n",
            "97       2      2      2      1      1      1      3      2      3       1   \n",
            "98       2      2      2      2      3      2      3      2      1       2   \n",
            "99       3      3      3      3      3      3      3      3      3       1   \n",
            "100      3      2      3      3      3      3      1      3      1       1   \n",
            "101      2      2      2      2      2      1      3      1      1       1   \n",
            "\n",
            "     para11  \n",
            "0    Medium  \n",
            "1       Low  \n",
            "2    Medium  \n",
            "3       Low  \n",
            "4      High  \n",
            "..      ...  \n",
            "97      Low  \n",
            "98   Medium  \n",
            "99     High  \n",
            "100    High  \n",
            "101     Low  \n",
            "\n",
            "[102 rows x 11 columns]\n"
          ]
        }
      ]
    },
    {
      "cell_type": "code",
      "source": [
        "df[\"para11\"].replace([\"Low\",\"Medium\",\"High\"],[1,2,3],inplace=True)\n",
        "print(df)"
      ],
      "metadata": {
        "colab": {
          "base_uri": "https://localhost:8080/"
        },
        "id": "3AWb3m3hRZWX",
        "outputId": "1c5db30a-01e3-4c83-f08d-9abce74460b3"
      },
      "execution_count": null,
      "outputs": [
        {
          "output_type": "stream",
          "name": "stdout",
          "text": [
            "     para1  para2  para3  para4  para5  para6  para7  para8  para9  para10  \\\n",
            "0        2      2      3      2      2      2      3      2      1       1   \n",
            "1        1      2      2      2      2      1      3      1      1       1   \n",
            "2        2      2      1      2      2      3      3      1      1       2   \n",
            "3        1      2      1      1      1      1      3      1      1       1   \n",
            "4        3      3      2      3      3      2      1      3      1       3   \n",
            "..     ...    ...    ...    ...    ...    ...    ...    ...    ...     ...   \n",
            "97       2      2      2      1      1      1      3      2      3       1   \n",
            "98       2      2      2      2      3      2      3      2      1       2   \n",
            "99       3      3      3      3      3      3      3      3      3       1   \n",
            "100      3      2      3      3      3      3      1      3      1       1   \n",
            "101      2      2      2      2      2      1      3      1      1       1   \n",
            "\n",
            "     para11  \n",
            "0         2  \n",
            "1         1  \n",
            "2         2  \n",
            "3         1  \n",
            "4         3  \n",
            "..      ...  \n",
            "97        1  \n",
            "98        2  \n",
            "99        3  \n",
            "100       3  \n",
            "101       1  \n",
            "\n",
            "[102 rows x 11 columns]\n"
          ]
        }
      ]
    },
    {
      "cell_type": "code",
      "source": [
        "def print_full(x):\n",
        "    pd.set_option('display.max_rows', len(x))\n",
        "    print(x)\n",
        "    pd.reset_option('display.max_rows')\n",
        "\n",
        "print_full(df)"
      ],
      "metadata": {
        "colab": {
          "base_uri": "https://localhost:8080/"
        },
        "id": "F_yTEoh5Rh4V",
        "outputId": "61d8c8f4-ea00-46b6-96a4-9ffdcd49c1bc"
      },
      "execution_count": null,
      "outputs": [
        {
          "output_type": "stream",
          "name": "stdout",
          "text": [
            "     para1  para2  para3  para4  para5  para6  para7  para8  para9  para10  \\\n",
            "0        2      2      3      2      2      2      3      2      1       1   \n",
            "1        1      2      2      2      2      1      3      1      1       1   \n",
            "2        2      2      1      2      2      3      3      1      1       2   \n",
            "3        1      2      1      1      1      1      3      1      1       1   \n",
            "4        3      3      2      3      3      2      1      3      1       3   \n",
            "5        2      2      1      1      2      1      3      2      1       1   \n",
            "6        1      1      1      1      1      1      3      1      1       1   \n",
            "7        2      2      2      2      2      2      3      3      1       2   \n",
            "8        2      2      2      2      2      2      3      2      1       2   \n",
            "9        2      2      2      2      2      2      3      2      1       1   \n",
            "10       2      2      2      2      2      2      3      2      2       2   \n",
            "11       2      2      1      2      2      2      3      2      2       3   \n",
            "12       2      1      2      2      2      2      3      2      1       1   \n",
            "13       2      2      1      2      2      1      3      2      1       2   \n",
            "14       1      2      2      3      3      2      2      2      1       3   \n",
            "15       2      2      1      3      3      2      2      2      1       2   \n",
            "16       2      2      2      2      2      1      3      2      3       2   \n",
            "17       1      2      1      3      2      1      2      1      1       1   \n",
            "18       2      2      2      2      1      1      3      2      1       2   \n",
            "19       2      2      1      2      2      2      2      2      1       2   \n",
            "20       2      2      3      3      2      2      3      2      1       2   \n",
            "21       2      3      2      3      2      2      2      2      1       2   \n",
            "22       2      2      2      2      3      2      3      2      3       2   \n",
            "23       2      1      2      2      2      2      3      2      1       2   \n",
            "24       2      1      2      1      2      1      3      1      1       1   \n",
            "25       2      1      1      2      2      2      3      2      1       1   \n",
            "26       2      2      2      2      2      2      3      2      1       2   \n",
            "27       2      2      1      2      2      1      3      2      1       2   \n",
            "28       2      2      2      2      1      1      3      1      2       2   \n",
            "29       1      1      1      2      2      1      3      1      1       1   \n",
            "30       2      2      3      2      2      2      2      2      1       3   \n",
            "31       2      2      2      2      2      1      2      1      1       2   \n",
            "32       3      3      3      3      3      2      3      2      1       3   \n",
            "33       2      1      1      2      2      1      3      1      1       1   \n",
            "34       2      2      1      2      1      1      3      1      1       1   \n",
            "35       2      2      2      2      2      2      1      2      2       3   \n",
            "36       3      3      3      3      3      2      1      3      1       2   \n",
            "37       3      3      3      2      2      3      2      3      2       3   \n",
            "38       1      1      2      1      1      1      3      1      1       1   \n",
            "39       2      2      2      2      2      2      1      2      1       2   \n",
            "40       1      1      2      2      1      1      3      1      1       1   \n",
            "41       3      3      3      3      3      3      3      3      3       3   \n",
            "42       1      2      1      2      2      1      1      1      1       1   \n",
            "43       2      1      2      2      2      1      1      1      1       1   \n",
            "44       2      2      2      1      1      1      3      2      3       1   \n",
            "45       2      2      2      2      3      2      3      2      1       2   \n",
            "46       3      3      3      3      3      3      3      3      3       1   \n",
            "47       3      2      3      3      3      3      1      3      1       1   \n",
            "48       2      2      2      2      2      1      3      1      1       1   \n",
            "49       3      2      3      2      2      3      1      3      3       3   \n",
            "50       1      2      1      2      2      1      3      1      1       1   \n",
            "51       2      2      2      2      2      2      3      2      1       2   \n",
            "52       1      1      1      1      1      1      3      1      1       1   \n",
            "53       2      2      2      2      2      2      3      2      1       1   \n",
            "54       1      2      1      2      2      1      1      1      1       1   \n",
            "55       3      3      3      3      3      3      3      3      3       2   \n",
            "56       2      2      2      2      2      2      3      2      2       1   \n",
            "57       2      2      2      2      2      2      2      2      2       2   \n",
            "58       2      3      3      3      3      3      2      3      1       3   \n",
            "59       1      1      1      2      2      1      2      1      1       1   \n",
            "60       2      2      2      3      3      3      3      2      2       2   \n",
            "61       1      2      2      2      2      2      3      2      1       2   \n",
            "62       1      2      2      1      1      1      3      1      1       1   \n",
            "63       2      2      2      2      2      1      3      1      1       1   \n",
            "64       1      1      1      1      1      1      3      1      1       1   \n",
            "65       1      1      1      1      1      1      3      1      1       1   \n",
            "66       3      3      3      3      3      3      1      3      1       1   \n",
            "67       2      2      2      2      2      1      2      1      1       1   \n",
            "68       1      1      1      1      1      1      3      1      1       1   \n",
            "69       2      2      3      3      3      3      3      3      3       2   \n",
            "70       2      1      2      1      2      1      3      1      1       1   \n",
            "71       2      3      3      3      3      3      3      3      3       2   \n",
            "72       2      2      2      3      3      2      3      2      1       3   \n",
            "73       3      3      3      2      2      3      3      2      1       3   \n",
            "74       2      2      3      3      3      2      2      2      1       2   \n",
            "75       1      1      2      2      2      1      3      1      1       2   \n",
            "76       3      3      3      3      3      3      2      3      1       3   \n",
            "77       2      2      2      1      1      3      2      2      2       2   \n",
            "78       1      1      2      1      2      1      2      1      1       1   \n",
            "79       1      2      2      2      2      1      3      1      1       1   \n",
            "80       1      1      1      1      1      1      3      1      1       1   \n",
            "81       2      2      2      2      1      1      3      1      2       2   \n",
            "82       1      1      1      2      2      1      3      1      1       1   \n",
            "83       2      2      3      2      2      2      2      2      1       3   \n",
            "84       2      2      2      2      2      1      2      1      1       2   \n",
            "85       3      3      3      3      3      2      3      2      1       3   \n",
            "86       2      1      1      2      2      1      3      1      1       1   \n",
            "87       2      2      1      2      1      1      3      1      1       1   \n",
            "88       2      2      2      2      2      2      1      2      2       3   \n",
            "89       3      3      3      3      3      2      1      3      1       2   \n",
            "90       3      3      3      2      2      3      2      3      2       3   \n",
            "91       1      1      2      1      1      1      3      1      1       1   \n",
            "92       2      2      2      2      2      2      1      2      1       2   \n",
            "93       1      1      2      2      1      1      3      1      1       1   \n",
            "94       3      3      3      3      3      3      3      3      3       3   \n",
            "95       1      2      1      2      2      1      1      1      1       1   \n",
            "96       2      1      2      2      2      1      1      1      1       1   \n",
            "97       2      2      2      1      1      1      3      2      3       1   \n",
            "98       2      2      2      2      3      2      3      2      1       2   \n",
            "99       3      3      3      3      3      3      3      3      3       1   \n",
            "100      3      2      3      3      3      3      1      3      1       1   \n",
            "101      2      2      2      2      2      1      3      1      1       1   \n",
            "\n",
            "     para11  \n",
            "0         2  \n",
            "1         1  \n",
            "2         2  \n",
            "3         1  \n",
            "4         3  \n",
            "5         1  \n",
            "6         1  \n",
            "7         2  \n",
            "8         2  \n",
            "9         2  \n",
            "10        2  \n",
            "11        2  \n",
            "12        1  \n",
            "13        1  \n",
            "14        1  \n",
            "15        1  \n",
            "16        2  \n",
            "17        1  \n",
            "18        2  \n",
            "19        2  \n",
            "20        2  \n",
            "21        2  \n",
            "22        2  \n",
            "23        1  \n",
            "24        1  \n",
            "25        1  \n",
            "26        2  \n",
            "27        2  \n",
            "28        2  \n",
            "29        1  \n",
            "30        2  \n",
            "31        2  \n",
            "32        2  \n",
            "33        1  \n",
            "34        1  \n",
            "35        2  \n",
            "36        2  \n",
            "37        3  \n",
            "38        1  \n",
            "39        2  \n",
            "40        1  \n",
            "41        3  \n",
            "42        1  \n",
            "43        1  \n",
            "44        1  \n",
            "45        2  \n",
            "46        3  \n",
            "47        3  \n",
            "48        1  \n",
            "49        3  \n",
            "50        1  \n",
            "51        2  \n",
            "52        1  \n",
            "53        2  \n",
            "54        1  \n",
            "55        3  \n",
            "56        2  \n",
            "57        2  \n",
            "58        3  \n",
            "59        1  \n",
            "60        3  \n",
            "61        2  \n",
            "62        1  \n",
            "63        1  \n",
            "64        1  \n",
            "65        1  \n",
            "66        3  \n",
            "67        1  \n",
            "68        1  \n",
            "69        3  \n",
            "70        1  \n",
            "71        3  \n",
            "72        2  \n",
            "73        3  \n",
            "74        2  \n",
            "75        1  \n",
            "76        3  \n",
            "77        2  \n",
            "78        1  \n",
            "79        1  \n",
            "80        1  \n",
            "81        2  \n",
            "82        1  \n",
            "83        2  \n",
            "84        2  \n",
            "85        2  \n",
            "86        1  \n",
            "87        1  \n",
            "88        2  \n",
            "89        2  \n",
            "90        3  \n",
            "91        1  \n",
            "92        2  \n",
            "93        1  \n",
            "94        3  \n",
            "95        1  \n",
            "96        1  \n",
            "97        1  \n",
            "98        2  \n",
            "99        3  \n",
            "100       3  \n",
            "101       1  \n"
          ]
        }
      ]
    },
    {
      "cell_type": "code",
      "source": [
        "from sklearn.manifold import TSNE\n",
        "from numpy import reshape\n",
        "import seaborn as sns\n",
        "\n",
        "x = df[col[:-1]]\n",
        "y = df.para11\n",
        "\n",
        "tsne = TSNE(n_components=2, verbose=1, random_state=123)\n",
        "z = tsne.fit_transform(x) \n",
        "\n",
        "df2 = pd.DataFrame()\n",
        "df2[\"y\"] = y\n",
        "df2[\"comp-1\"] = z[:,0]\n",
        "df2[\"comp-2\"] = z[:,1]\n",
        "\n",
        "sns.scatterplot(x=\"comp-1\", y=\"comp-2\", hue=df2.y.tolist(),\n",
        "                palette=sns.color_palette(\"hls\", 3),\n",
        "                data=df2).set(title=\"Stress data T-SNE projection\")"
      ],
      "metadata": {
        "colab": {
          "base_uri": "https://localhost:8080/",
          "height": 523
        },
        "id": "mSNrzpUwaVQi",
        "outputId": "d0cb609d-4daf-4688-a11f-fe4574caa378"
      },
      "execution_count": null,
      "outputs": [
        {
          "output_type": "stream",
          "name": "stderr",
          "text": [
            "/usr/local/lib/python3.7/dist-packages/sklearn/manifold/_t_sne.py:783: FutureWarning: The default initialization in TSNE will change from 'random' to 'pca' in 1.2.\n",
            "  FutureWarning,\n",
            "/usr/local/lib/python3.7/dist-packages/sklearn/manifold/_t_sne.py:793: FutureWarning: The default learning rate in TSNE will change from 200.0 to 'auto' in 1.2.\n",
            "  FutureWarning,\n"
          ]
        },
        {
          "output_type": "stream",
          "name": "stdout",
          "text": [
            "[t-SNE] Computing 91 nearest neighbors...\n",
            "[t-SNE] Indexed 102 samples in 0.000s...\n",
            "[t-SNE] Computed neighbors for 102 samples in 0.008s...\n",
            "[t-SNE] Computed conditional probabilities for sample 102 / 102\n",
            "[t-SNE] Mean sigma: 1.221656\n",
            "[t-SNE] KL divergence after 250 iterations with early exaggeration: 56.233578\n",
            "[t-SNE] KL divergence after 1000 iterations: 0.204461\n"
          ]
        },
        {
          "output_type": "execute_result",
          "data": {
            "text/plain": [
              "[Text(0.5, 1.0, 'Stress data T-SNE projection')]"
            ]
          },
          "metadata": {},
          "execution_count": 13
        },
        {
          "output_type": "display_data",
          "data": {
            "text/plain": [
              "<Figure size 432x288 with 1 Axes>"
            ],
            "image/png": "[encoded data removed]"
          },
          "metadata": {
            "needs_background": "light"
          }
        }
      ]
    },
    {
      "cell_type": "code",
      "source": [
        "train, test = train_test_split(df, test_size = 0.3)\n",
        "trainX = train[col[:-1]]# taking the training data features\n",
        "trainY=train.para11# output of our training data\n",
        "trainY=trainY.astype('int')\n",
        "testX= test[col[:-1]] # taking test data features\n",
        "testY =test.para11   #output value of test data\n",
        "trainX.head(5)"
      ],
      "metadata": {
        "colab": {
          "base_uri": "https://localhost:8080/",
          "height": 206
        },
        "id": "_Tb5d2NVxVJb",
        "outputId": "746b1f1a-9c97-4c21-b09f-cce4b718cf65"
      },
      "execution_count": null,
      "outputs": [
        {
          "output_type": "execute_result",
          "data": {
            "text/plain": [
              "    para1  para2  para3  para4  para5  para6  para7  para8  para9  para10\n",
              "16      2      2      2      2      2      1      3      2      3       2\n",
              "86      2      1      1      2      2      1      3      1      1       1\n",
              "23      2      1      2      2      2      2      3      2      1       2\n",
              "40      1      1      2      2      1      1      3      1      1       1\n",
              "18      2      2      2      2      1      1      3      2      1       2"
            ],
            "text/html": [
              "\n",
              "  <div id=\"df-4c10a824-69af-4962-b6f0-710e8b4a84ff\">\n",
              "    <div class=\"colab-df-container\">\n",
              "      <div>\n",
              "<style scoped>\n",
              "    .dataframe tbody tr th:only-of-type {\n",
              "        vertical-align: middle;\n",
              "    }\n",
              "\n",
              "    .dataframe tbody tr th {\n",
              "        vertical-align: top;\n",
              "    }\n",
              "\n",
              "    .dataframe thead th {\n",
              "        text-align: right;\n",
              "    }\n",
              "</style>\n",
              "<table border=\"1\" class=\"dataframe\">\n",
              "  <thead>\n",
              "    <tr style=\"text-align: right;\">\n",
              "      <th></th>\n",
              "      <th>para1</th>\n",
              "      <th>para2</th>\n",
              "      <th>para3</th>\n",
              "      <th>para4</th>\n",
              "      <th>para5</th>\n",
              "      <th>para6</th>\n",
              "      <th>para7</th>\n",
              "      <th>para8</th>\n",
              "      <th>para9</th>\n",
              "      <th>para10</th>\n",
              "    </tr>\n",
              "  </thead>\n",
              "  <tbody>\n",
              "    <tr>\n",
              "      <th>16</th>\n",
              "      <td>2</td>\n",
              "      <td>2</td>\n",
              "      <td>2</td>\n",
              "      <td>2</td>\n",
              "      <td>2</td>\n",
              "      <td>1</td>\n",
              "      <td>3</td>\n",
              "      <td>2</td>\n",
              "      <td>3</td>\n",
              "      <td>2</td>\n",
              "    </tr>\n",
              "    <tr>\n",
              "      <th>86</th>\n",
              "      <td>2</td>\n",
              "      <td>1</td>\n",
              "      <td>1</td>\n",
              "      <td>2</td>\n",
              "      <td>2</td>\n",
              "      <td>1</td>\n",
              "      <td>3</td>\n",
              "      <td>1</td>\n",
              "      <td>1</td>\n",
              "      <td>1</td>\n",
              "    </tr>\n",
              "    <tr>\n",
              "      <th>23</th>\n",
              "      <td>2</td>\n",
              "      <td>1</td>\n",
              "      <td>2</td>\n",
              "      <td>2</td>\n",
              "      <td>2</td>\n",
              "      <td>2</td>\n",
              "      <td>3</td>\n",
              "      <td>2</td>\n",
              "      <td>1</td>\n",
              "      <td>2</td>\n",
              "    </tr>\n",
              "    <tr>\n",
              "      <th>40</th>\n",
              "      <td>1</td>\n",
              "      <td>1</td>\n",
              "      <td>2</td>\n",
              "      <td>2</td>\n",
              "      <td>1</td>\n",
              "      <td>1</td>\n",
              "      <td>3</td>\n",
              "      <td>1</td>\n",
              "      <td>1</td>\n",
              "      <td>1</td>\n",
              "    </tr>\n",
              "    <tr>\n",
              "      <th>18</th>\n",
              "      <td>2</td>\n",
              "      <td>2</td>\n",
              "      <td>2</td>\n",
              "      <td>2</td>\n",
              "      <td>1</td>\n",
              "      <td>1</td>\n",
              "      <td>3</td>\n",
              "      <td>2</td>\n",
              "      <td>1</td>\n",
              "      <td>2</td>\n",
              "    </tr>\n",
              "  </tbody>\n",
              "</table>\n",
              "</div>\n",
              "      <button class=\"colab-df-convert\" onclick=\"convertToInteractive('df-4c10a824-69af-4962-b6f0-710e8b4a84ff')\"\n",
              "              title=\"Convert this dataframe to an interactive table.\"\n",
              "              style=\"display:none;\">\n",
              "        \n",
              "  <svg xmlns=\"http://www.w3.org/2000/svg\" height=\"24px\"viewBox=\"0 0 24 24\"\n",
              "       width=\"24px\">\n",
              "    <path d=\"M0 0h24v24H0V0z\" fill=\"none\"/>\n",
              "    <path d=\"M18.56 5.44l.94 2.06.94-2.06 2.06-.94-2.06-.94-.94-2.06-.94 2.06-2.06.94zm-11 1L8.5 8.5l.94-2.06 2.06-.94-2.06-.94L8.5 2.5l-.94 2.06-2.06.94zm10 10l.94 2.06.94-2.06 2.06-.94-2.06-.94-.94-2.06-.94 2.06-2.06.94z\"/><path d=\"M17.41 7.96l-1.37-1.37c-.4-.4-.92-.59-1.43-.59-.52 0-1.04.2-1.43.59L10.3 9.45l-7.72 7.72c-.78.78-.78 2.05 0 2.83L4 21.41c.39.39.9.59 1.41.59.51 0 1.02-.2 1.41-.59l7.78-7.78 2.81-2.81c.8-.78.8-2.07 0-2.86zM5.41 20L4 18.59l7.72-7.72 1.47 1.35L5.41 20z\"/>\n",
              "  </svg>\n",
              "      </button>\n",
              "      \n",
              "  <style>\n",
              "    .colab-df-container {\n",
              "      display:flex;\n",
              "      flex-wrap:wrap;\n",
              "      gap: 12px;\n",
              "    }\n",
              "\n",
              "    .colab-df-convert {\n",
              "      background-color: #E8F0FE;\n",
              "      border: none;\n",
              "      border-radius: 50%;\n",
              "      cursor: pointer;\n",
              "      display: none;\n",
              "      fill: #1967D2;\n",
              "      height: 32px;\n",
              "      padding: 0 0 0 0;\n",
              "      width: 32px;\n",
              "    }\n",
              "\n",
              "    .colab-df-convert:hover {\n",
              "      background-color: #E2EBFA;\n",
              "      box-shadow: 0px 1px 2px rgba(60, 64, 67, 0.3), 0px 1px 3px 1px rgba(60, 64, 67, 0.15);\n",
              "      fill: #174EA6;\n",
              "    }\n",
              "\n",
              "    [theme=dark] .colab-df-convert {\n",
              "      background-color: #3B4455;\n",
              "      fill: #D2E3FC;\n",
              "    }\n",
              "\n",
              "    [theme=dark] .colab-df-convert:hover {\n",
              "      background-color: #434B5C;\n",
              "      box-shadow: 0px 1px 3px 1px rgba(0, 0, 0, 0.15);\n",
              "      filter: drop-shadow(0px 1px 2px rgba(0, 0, 0, 0.3));\n",
              "      fill: #FFFFFF;\n",
              "    }\n",
              "  </style>\n",
              "\n",
              "      <script>\n",
              "        const buttonEl =\n",
              "          document.querySelector('#df-4c10a824-69af-4962-b6f0-710e8b4a84ff button.colab-df-convert');\n",
              "        buttonEl.style.display =\n",
              "          google.colab.kernel.accessAllowed ? 'block' : 'none';\n",
              "\n",
              "        async function convertToInteractive(key) {\n",
              "          const element = document.querySelector('#df-4c10a824-69af-4962-b6f0-710e8b4a84ff');\n",
              "          const dataTable =\n",
              "            await google.colab.kernel.invokeFunction('convertToInteractive',\n",
              "                                                     [key], {});\n",
              "          if (!dataTable) return;\n",
              "\n",
              "          const docLinkHtml = 'Like what you see? Visit the ' +\n",
              "            '<a target=\"_blank\" href=https://colab.research.google.com/notebooks/data_table.ipynb>data table notebook</a>'\n",
              "            + ' to learn more about interactive tables.';\n",
              "          element.innerHTML = '';\n",
              "          dataTable['output_type'] = 'display_data';\n",
              "          await google.colab.output.renderOutput(dataTable, element);\n",
              "          const docLink = document.createElement('div');\n",
              "          docLink.innerHTML = docLinkHtml;\n",
              "          element.appendChild(docLink);\n",
              "        }\n",
              "      </script>\n",
              "    </div>\n",
              "  </div>\n",
              "  "
            ]
          },
          "metadata": {},
          "execution_count": 14
        }
      ]
    },
    {
      "cell_type": "code",
      "source": [
        "C = 1.0 # SVM regularization parameter\n",
        "svc = svm.SVC(kernel='rbf', C=C,gamma='auto', random_state=0).fit(trainX,trainY)"
      ],
      "metadata": {
        "id": "JwtNePH8zRqH"
      },
      "execution_count": null,
      "outputs": []
    },
    {
      "cell_type": "code",
      "source": [
        "predY = svc.predict(testX)"
      ],
      "metadata": {
        "id": "SE0_4VcRzabx"
      },
      "execution_count": null,
      "outputs": []
    },
    {
      "cell_type": "code",
      "source": [
        "print(list(testY))\n",
        "print(list(predY))"
      ],
      "metadata": {
        "colab": {
          "base_uri": "https://localhost:8080/"
        },
        "id": "qbpbhw6bzdfu",
        "outputId": "d58cd205-026c-4092-a670-ddf8aebe274f"
      },
      "execution_count": null,
      "outputs": [
        {
          "output_type": "stream",
          "name": "stdout",
          "text": [
            "[1, 2, 2, 1, 2, 1, 1, 2, 2, 3, 2, 2, 2, 1, 1, 2, 2, 1, 1, 1, 3, 1, 2, 3, 1, 1, 2, 1, 3, 2, 1]\n",
            "[1, 1, 2, 1, 2, 1, 1, 2, 2, 3, 2, 2, 2, 1, 1, 2, 2, 1, 1, 1, 3, 1, 2, 3, 1, 1, 2, 1, 3, 2, 2]\n"
          ]
        }
      ]
    },
    {
      "cell_type": "code",
      "source": [
        "print(\"Actual : \",end=\"\\t\")\n",
        "for x in testY:\n",
        "  if x==1:\n",
        "    print(\"Low\",end=\"\\t\")\n",
        "  if x==2:\n",
        "    print(\"Medium\",end=\"\\t\")\n",
        "  if x==3:\n",
        "    print(\"High\",end=\"\\t\")\n",
        "print(\"\\nPredicted : \",end=\"\\t\")   \n",
        "for x in predY:\n",
        "  if x==1:\n",
        "    print(\"Low\",end=\"\\t\")\n",
        "  if x==2:\n",
        "    print(\"Medium\",end=\"\\t\")\n",
        "  if x==3:\n",
        "    print(\"High\",end=\"\\t\")"
      ],
      "metadata": {
        "colab": {
          "base_uri": "https://localhost:8080/"
        },
        "id": "LkS0WkCuzgtj",
        "outputId": "c13c2084-9fcb-440f-b7ce-15b9daf3a5df"
      },
      "execution_count": null,
      "outputs": [
        {
          "output_type": "stream",
          "name": "stdout",
          "text": [
            "Actual : \tLow\tMedium\tMedium\tLow\tMedium\tLow\tLow\tMedium\tMedium\tHigh\tMedium\tMedium\tMedium\tLow\tLow\tMedium\tMedium\tLow\tLow\tLow\tHigh\tLow\tMedium\tHigh\tLow\tLow\tMedium\tLow\tHigh\tMedium\tLow\t\n",
            "Predicted : \tLow\tLow\tMedium\tLow\tMedium\tLow\tLow\tMedium\tMedium\tHigh\tMedium\tMedium\tMedium\tLow\tLow\tMedium\tMedium\tLow\tLow\tLow\tHigh\tLow\tMedium\tHigh\tLow\tLow\tMedium\tLow\tHigh\tMedium\tMedium\t"
          ]
        }
      ]
    },
    {
      "cell_type": "code",
      "source": [
        "cm= confusion_matrix(testY, predY)\n",
        "# plot_confusion_matrix(cm,display_labels=['Low','Medium','High'])\n",
        "cm_display = metrics.ConfusionMatrixDisplay(confusion_matrix = cm, display_labels = ['Low','Medium','High'])\n",
        "\n",
        "cm_display.plot()\n",
        "plt.show()"
      ],
      "metadata": {
        "id": "rJsmi8Xazknz",
        "outputId": "34174899-9273-4857-9270-84d3035cd61c",
        "colab": {
          "base_uri": "https://localhost:8080/",
          "height": 279
        }
      },
      "execution_count": null,
      "outputs": [
        {
          "output_type": "display_data",
          "data": {
            "text/plain": [
              "<Figure size 432x288 with 2 Axes>"
            ],
            "image/png": "[encoded data removed]"
          },
          "metadata": {
            "needs_background": "light"
          }
        }
      ]
    },
    {
      "cell_type": "code",
      "source": [
        "print('Accuracy of the SVM Classifier is:',metrics.accuracy_score(predY,testY))"
      ],
      "metadata": {
        "id": "iYan4qfozo5H",
        "outputId": "a30beada-ec25-4784-af7f-77e513bc294a",
        "colab": {
          "base_uri": "https://localhost:8080/"
        }
      },
      "execution_count": null,
      "outputs": [
        {
          "output_type": "stream",
          "name": "stdout",
          "text": [
            "Accuracy of the SVM Classifier is: 0.9354838709677419\n"
          ]
        }
      ]
    }
  ]
}